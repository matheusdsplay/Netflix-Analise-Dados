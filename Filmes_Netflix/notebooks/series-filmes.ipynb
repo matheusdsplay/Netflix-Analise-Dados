import pandas as pd
import matplotlib.pyplot as plt
import seaborn as sns

# Estilo mais moderno
sns.set_style("whitegrid")

# Carregar o arquivo CSV
df = pd.read_csv("../data/netflix_titles_limpo.csv")

# Traduzir as categorias para português
df['type'] = df['type'].replace({'Movie': 'Filme', 'TV Show': 'Série'})

# Contar a quantidade de cada tipo
contagem = df['type'].value_counts()

# Criar gráfico
plt.figure(figsize=(8,5))
bars = plt.bar(contagem.index, contagem.values, color=["#1f77b4", "#ff7f0e"], edgecolor='black')

# Adicionar título e rótulos
plt.title("Quantidade de Filmes vs Séries", fontsize=16, fontweight='bold')
plt.xlabel("Tipo", fontsize=12)
plt.ylabel("Quantidade", fontsize=12)

# Mostrar valores no topo de cada barra
for bar in bars:
    yval = bar.get_height()
    plt.text(bar.get_x() + bar.get_width()/2, yval + 50, yval, ha='center', fontsize=12)

# Deixar os rótulos do eixo X na horizontal
plt.xticks(rotation=0)
plt.tight_layout()
plt.show()
