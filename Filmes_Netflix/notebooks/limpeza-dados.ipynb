{
 "cells": [
  {
   "cell_type": "code",
   "execution_count": 32,
   "id": "5e5446e3-216d-4692-8946-afe6b27d501f",
   "metadata": {},
   "outputs": [
    {
     "name": "stdout",
     "output_type": "stream",
     "text": [
      "Formato inicial do DataFrame: (8807, 12)\n",
      "Formato após a remoção de duplicatas: (8807, 12)\n",
      "Formato após a remoção de valores ausentes: (5336, 12)\n",
      "\n",
      "Limpeza de dados concluída. O arquivo \"netflix_titles.csv\" foi gerado com sucesso.\n"
     ]
    }
   ],
   "source": [
    "import pandas as pd\n",
    "\n",
    "caminho_arquivo = r'C:\\Users\\mathe\\Downloads\\Filmes_Netflix\\Data\\netflix_titles.csv'\n",
    "\n",
    "df = pd.read_csv(caminho_arquivo)\n",
    "\n",
    "print(f'Formato inicial do DataFrame: {df.shape}')\n",
    "\n",
    "df.drop_duplicates(inplace=True)\n",
    "print(f'Formato após a remoção de duplicatas: {df.shape}')\n",
    "\n",
    "df.dropna(subset=['director', 'cast', 'country', 'date_added'], inplace=True)\n",
    "print(f'Formato após a remoção de valores ausentes: {df.shape}')\n",
    "\n",
    "caminho_saida = r'C:\\Users\\mathe\\Downloads\\Filmes_Netflix\\Data\\netflix_titles_limpo.csv'\n",
    "df.to_csv(caminho_saida, index=False)\n",
    "\n",
    "print('\\nLimpeza de dados concluída. O arquivo \"netflix_titles.csv\" foi gerado com sucesso.')"
   ]
  },
  {
   "cell_type": "code",
   "execution_count": null,
   "id": "9f0918de-a719-41ca-8940-dcf824f020d5",
   "metadata": {},
   "outputs": [],
   "source": []
  }
 ],
 "metadata": {
  "kernelspec": {
   "display_name": "Python 3 (ipykernel)",
   "language": "python",
   "name": "python3"
  },
  "language_info": {
   "codemirror_mode": {
    "name": "ipython",
    "version": 3
   },
   "file_extension": ".py",
   "mimetype": "text/x-python",
   "name": "python",
   "nbconvert_exporter": "python",
   "pygments_lexer": "ipython3",
   "version": "3.13.7"
  }
 },
 "nbformat": 4,
 "nbformat_minor": 5
}
